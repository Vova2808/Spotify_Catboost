{
  "nbformat": 4,
  "nbformat_minor": 0,
  "metadata": {
    "colab": {
      "provenance": []
    },
    "kernelspec": {
      "name": "python3",
      "display_name": "Python 3"
    },
    "language_info": {
      "name": "python"
    }
  },
  "cells": [
    {
      "cell_type": "code",
      "source": [
        "! git clone https://github.com/Vova2808/Spotify_Tracks_Dataset.git"
      ],
      "metadata": {
        "colab": {
          "base_uri": "https://localhost:8080/"
        },
        "id": "olPpno9v9W2V",
        "outputId": "b0029129-370d-481f-fef6-c53bec4f3e25"
      },
      "execution_count": 70,
      "outputs": [
        {
          "output_type": "stream",
          "name": "stdout",
          "text": [
            "fatal: destination path 'Spotify_Tracks_Dataset' already exists and is not an empty directory.\n"
          ]
        }
      ]
    },
    {
      "cell_type": "code",
      "source": [
        "! pip install catboost"
      ],
      "metadata": {
        "colab": {
          "base_uri": "https://localhost:8080/"
        },
        "id": "5vHvmxvgtZhH",
        "outputId": "0cfc52b3-ca66-44c8-b46c-d2d17b9ba3c3"
      },
      "execution_count": 71,
      "outputs": [
        {
          "output_type": "stream",
          "name": "stdout",
          "text": [
            "Requirement already satisfied: catboost in /usr/local/lib/python3.10/dist-packages (1.2.5)\n",
            "Requirement already satisfied: graphviz in /usr/local/lib/python3.10/dist-packages (from catboost) (0.20.3)\n",
            "Requirement already satisfied: matplotlib in /usr/local/lib/python3.10/dist-packages (from catboost) (3.7.1)\n",
            "Requirement already satisfied: numpy>=1.16.0 in /usr/local/lib/python3.10/dist-packages (from catboost) (1.25.2)\n",
            "Requirement already satisfied: pandas>=0.24 in /usr/local/lib/python3.10/dist-packages (from catboost) (2.0.3)\n",
            "Requirement already satisfied: scipy in /usr/local/lib/python3.10/dist-packages (from catboost) (1.11.4)\n",
            "Requirement already satisfied: plotly in /usr/local/lib/python3.10/dist-packages (from catboost) (5.15.0)\n",
            "Requirement already satisfied: six in /usr/local/lib/python3.10/dist-packages (from catboost) (1.16.0)\n",
            "Requirement already satisfied: python-dateutil>=2.8.2 in /usr/local/lib/python3.10/dist-packages (from pandas>=0.24->catboost) (2.8.2)\n",
            "Requirement already satisfied: pytz>=2020.1 in /usr/local/lib/python3.10/dist-packages (from pandas>=0.24->catboost) (2023.4)\n",
            "Requirement already satisfied: tzdata>=2022.1 in /usr/local/lib/python3.10/dist-packages (from pandas>=0.24->catboost) (2024.1)\n",
            "Requirement already satisfied: contourpy>=1.0.1 in /usr/local/lib/python3.10/dist-packages (from matplotlib->catboost) (1.2.1)\n",
            "Requirement already satisfied: cycler>=0.10 in /usr/local/lib/python3.10/dist-packages (from matplotlib->catboost) (0.12.1)\n",
            "Requirement already satisfied: fonttools>=4.22.0 in /usr/local/lib/python3.10/dist-packages (from matplotlib->catboost) (4.53.0)\n",
            "Requirement already satisfied: kiwisolver>=1.0.1 in /usr/local/lib/python3.10/dist-packages (from matplotlib->catboost) (1.4.5)\n",
            "Requirement already satisfied: packaging>=20.0 in /usr/local/lib/python3.10/dist-packages (from matplotlib->catboost) (24.1)\n",
            "Requirement already satisfied: pillow>=6.2.0 in /usr/local/lib/python3.10/dist-packages (from matplotlib->catboost) (9.4.0)\n",
            "Requirement already satisfied: pyparsing>=2.3.1 in /usr/local/lib/python3.10/dist-packages (from matplotlib->catboost) (3.1.2)\n",
            "Requirement already satisfied: tenacity>=6.2.0 in /usr/local/lib/python3.10/dist-packages (from plotly->catboost) (8.4.1)\n"
          ]
        }
      ]
    },
    {
      "cell_type": "code",
      "execution_count": 72,
      "metadata": {
        "id": "2oCzUZoZtOJU"
      },
      "outputs": [],
      "source": [
        "import numpy as np\n",
        "import pandas as pd\n",
        "\n",
        "df = pd.read_csv('/content/Spotify_Tracks_Dataset/dataset.csv')"
      ]
    },
    {
      "cell_type": "code",
      "source": [
        "df.head()"
      ],
      "metadata": {
        "colab": {
          "base_uri": "https://localhost:8080/",
          "height": 412
        },
        "id": "A3RR0cez7bE3",
        "outputId": "27d9be4c-03a6-49e9-c010-dbc5fa43dd92"
      },
      "execution_count": 73,
      "outputs": [
        {
          "output_type": "execute_result",
          "data": {
            "text/plain": [
              "   Unnamed: 0                track_id                 artists  \\\n",
              "0           0  5SuOikwiRyPMVoIQDJUgSV             Gen Hoshino   \n",
              "1           1  4qPNDBW1i3p13qLCt0Ki3A            Ben Woodward   \n",
              "2           2  1iJBSr7s7jYXzM8EGcbK5b  Ingrid Michaelson;ZAYN   \n",
              "3           3  6lfxq3CG4xtTiEg7opyCyx            Kina Grannis   \n",
              "4           4  5vjLSffimiIP26QG5WcN2K        Chord Overstreet   \n",
              "\n",
              "                                          album_name  \\\n",
              "0                                             Comedy   \n",
              "1                                   Ghost (Acoustic)   \n",
              "2                                     To Begin Again   \n",
              "3  Crazy Rich Asians (Original Motion Picture Sou...   \n",
              "4                                            Hold On   \n",
              "\n",
              "                   track_name  popularity  duration_ms  explicit  \\\n",
              "0                      Comedy          73       230666     False   \n",
              "1            Ghost - Acoustic          55       149610     False   \n",
              "2              To Begin Again          57       210826     False   \n",
              "3  Can't Help Falling In Love          71       201933     False   \n",
              "4                     Hold On          82       198853     False   \n",
              "\n",
              "   danceability  energy  ...  loudness  mode  speechiness  acousticness  \\\n",
              "0         0.676  0.4610  ...    -6.746     0       0.1430        0.0322   \n",
              "1         0.420  0.1660  ...   -17.235     1       0.0763        0.9240   \n",
              "2         0.438  0.3590  ...    -9.734     1       0.0557        0.2100   \n",
              "3         0.266  0.0596  ...   -18.515     1       0.0363        0.9050   \n",
              "4         0.618  0.4430  ...    -9.681     1       0.0526        0.4690   \n",
              "\n",
              "   instrumentalness  liveness  valence    tempo  time_signature  track_genre  \n",
              "0          0.000001    0.3580    0.715   87.917               4     acoustic  \n",
              "1          0.000006    0.1010    0.267   77.489               4     acoustic  \n",
              "2          0.000000    0.1170    0.120   76.332               4     acoustic  \n",
              "3          0.000071    0.1320    0.143  181.740               3     acoustic  \n",
              "4          0.000000    0.0829    0.167  119.949               4     acoustic  \n",
              "\n",
              "[5 rows x 21 columns]"
            ],
            "text/html": [
              "\n",
              "  <div id=\"df-28bea5fd-572c-4ca6-9649-99807e4291b1\" class=\"colab-df-container\">\n",
              "    <div>\n",
              "<style scoped>\n",
              "    .dataframe tbody tr th:only-of-type {\n",
              "        vertical-align: middle;\n",
              "    }\n",
              "\n",
              "    .dataframe tbody tr th {\n",
              "        vertical-align: top;\n",
              "    }\n",
              "\n",
              "    .dataframe thead th {\n",
              "        text-align: right;\n",
              "    }\n",
              "</style>\n",
              "<table border=\"1\" class=\"dataframe\">\n",
              "  <thead>\n",
              "    <tr style=\"text-align: right;\">\n",
              "      <th></th>\n",
              "      <th>Unnamed: 0</th>\n",
              "      <th>track_id</th>\n",
              "      <th>artists</th>\n",
              "      <th>album_name</th>\n",
              "      <th>track_name</th>\n",
              "      <th>popularity</th>\n",
              "      <th>duration_ms</th>\n",
              "      <th>explicit</th>\n",
              "      <th>danceability</th>\n",
              "      <th>energy</th>\n",
              "      <th>...</th>\n",
              "      <th>loudness</th>\n",
              "      <th>mode</th>\n",
              "      <th>speechiness</th>\n",
              "      <th>acousticness</th>\n",
              "      <th>instrumentalness</th>\n",
              "      <th>liveness</th>\n",
              "      <th>valence</th>\n",
              "      <th>tempo</th>\n",
              "      <th>time_signature</th>\n",
              "      <th>track_genre</th>\n",
              "    </tr>\n",
              "  </thead>\n",
              "  <tbody>\n",
              "    <tr>\n",
              "      <th>0</th>\n",
              "      <td>0</td>\n",
              "      <td>5SuOikwiRyPMVoIQDJUgSV</td>\n",
              "      <td>Gen Hoshino</td>\n",
              "      <td>Comedy</td>\n",
              "      <td>Comedy</td>\n",
              "      <td>73</td>\n",
              "      <td>230666</td>\n",
              "      <td>False</td>\n",
              "      <td>0.676</td>\n",
              "      <td>0.4610</td>\n",
              "      <td>...</td>\n",
              "      <td>-6.746</td>\n",
              "      <td>0</td>\n",
              "      <td>0.1430</td>\n",
              "      <td>0.0322</td>\n",
              "      <td>0.000001</td>\n",
              "      <td>0.3580</td>\n",
              "      <td>0.715</td>\n",
              "      <td>87.917</td>\n",
              "      <td>4</td>\n",
              "      <td>acoustic</td>\n",
              "    </tr>\n",
              "    <tr>\n",
              "      <th>1</th>\n",
              "      <td>1</td>\n",
              "      <td>4qPNDBW1i3p13qLCt0Ki3A</td>\n",
              "      <td>Ben Woodward</td>\n",
              "      <td>Ghost (Acoustic)</td>\n",
              "      <td>Ghost - Acoustic</td>\n",
              "      <td>55</td>\n",
              "      <td>149610</td>\n",
              "      <td>False</td>\n",
              "      <td>0.420</td>\n",
              "      <td>0.1660</td>\n",
              "      <td>...</td>\n",
              "      <td>-17.235</td>\n",
              "      <td>1</td>\n",
              "      <td>0.0763</td>\n",
              "      <td>0.9240</td>\n",
              "      <td>0.000006</td>\n",
              "      <td>0.1010</td>\n",
              "      <td>0.267</td>\n",
              "      <td>77.489</td>\n",
              "      <td>4</td>\n",
              "      <td>acoustic</td>\n",
              "    </tr>\n",
              "    <tr>\n",
              "      <th>2</th>\n",
              "      <td>2</td>\n",
              "      <td>1iJBSr7s7jYXzM8EGcbK5b</td>\n",
              "      <td>Ingrid Michaelson;ZAYN</td>\n",
              "      <td>To Begin Again</td>\n",
              "      <td>To Begin Again</td>\n",
              "      <td>57</td>\n",
              "      <td>210826</td>\n",
              "      <td>False</td>\n",
              "      <td>0.438</td>\n",
              "      <td>0.3590</td>\n",
              "      <td>...</td>\n",
              "      <td>-9.734</td>\n",
              "      <td>1</td>\n",
              "      <td>0.0557</td>\n",
              "      <td>0.2100</td>\n",
              "      <td>0.000000</td>\n",
              "      <td>0.1170</td>\n",
              "      <td>0.120</td>\n",
              "      <td>76.332</td>\n",
              "      <td>4</td>\n",
              "      <td>acoustic</td>\n",
              "    </tr>\n",
              "    <tr>\n",
              "      <th>3</th>\n",
              "      <td>3</td>\n",
              "      <td>6lfxq3CG4xtTiEg7opyCyx</td>\n",
              "      <td>Kina Grannis</td>\n",
              "      <td>Crazy Rich Asians (Original Motion Picture Sou...</td>\n",
              "      <td>Can't Help Falling In Love</td>\n",
              "      <td>71</td>\n",
              "      <td>201933</td>\n",
              "      <td>False</td>\n",
              "      <td>0.266</td>\n",
              "      <td>0.0596</td>\n",
              "      <td>...</td>\n",
              "      <td>-18.515</td>\n",
              "      <td>1</td>\n",
              "      <td>0.0363</td>\n",
              "      <td>0.9050</td>\n",
              "      <td>0.000071</td>\n",
              "      <td>0.1320</td>\n",
              "      <td>0.143</td>\n",
              "      <td>181.740</td>\n",
              "      <td>3</td>\n",
              "      <td>acoustic</td>\n",
              "    </tr>\n",
              "    <tr>\n",
              "      <th>4</th>\n",
              "      <td>4</td>\n",
              "      <td>5vjLSffimiIP26QG5WcN2K</td>\n",
              "      <td>Chord Overstreet</td>\n",
              "      <td>Hold On</td>\n",
              "      <td>Hold On</td>\n",
              "      <td>82</td>\n",
              "      <td>198853</td>\n",
              "      <td>False</td>\n",
              "      <td>0.618</td>\n",
              "      <td>0.4430</td>\n",
              "      <td>...</td>\n",
              "      <td>-9.681</td>\n",
              "      <td>1</td>\n",
              "      <td>0.0526</td>\n",
              "      <td>0.4690</td>\n",
              "      <td>0.000000</td>\n",
              "      <td>0.0829</td>\n",
              "      <td>0.167</td>\n",
              "      <td>119.949</td>\n",
              "      <td>4</td>\n",
              "      <td>acoustic</td>\n",
              "    </tr>\n",
              "  </tbody>\n",
              "</table>\n",
              "<p>5 rows × 21 columns</p>\n",
              "</div>\n",
              "    <div class=\"colab-df-buttons\">\n",
              "\n",
              "  <div class=\"colab-df-container\">\n",
              "    <button class=\"colab-df-convert\" onclick=\"convertToInteractive('df-28bea5fd-572c-4ca6-9649-99807e4291b1')\"\n",
              "            title=\"Convert this dataframe to an interactive table.\"\n",
              "            style=\"display:none;\">\n",
              "\n",
              "  <svg xmlns=\"http://www.w3.org/2000/svg\" height=\"24px\" viewBox=\"0 -960 960 960\">\n",
              "    <path d=\"M120-120v-720h720v720H120Zm60-500h600v-160H180v160Zm220 220h160v-160H400v160Zm0 220h160v-160H400v160ZM180-400h160v-160H180v160Zm440 0h160v-160H620v160ZM180-180h160v-160H180v160Zm440 0h160v-160H620v160Z\"/>\n",
              "  </svg>\n",
              "    </button>\n",
              "\n",
              "  <style>\n",
              "    .colab-df-container {\n",
              "      display:flex;\n",
              "      gap: 12px;\n",
              "    }\n",
              "\n",
              "    .colab-df-convert {\n",
              "      background-color: #E8F0FE;\n",
              "      border: none;\n",
              "      border-radius: 50%;\n",
              "      cursor: pointer;\n",
              "      display: none;\n",
              "      fill: #1967D2;\n",
              "      height: 32px;\n",
              "      padding: 0 0 0 0;\n",
              "      width: 32px;\n",
              "    }\n",
              "\n",
              "    .colab-df-convert:hover {\n",
              "      background-color: #E2EBFA;\n",
              "      box-shadow: 0px 1px 2px rgba(60, 64, 67, 0.3), 0px 1px 3px 1px rgba(60, 64, 67, 0.15);\n",
              "      fill: #174EA6;\n",
              "    }\n",
              "\n",
              "    .colab-df-buttons div {\n",
              "      margin-bottom: 4px;\n",
              "    }\n",
              "\n",
              "    [theme=dark] .colab-df-convert {\n",
              "      background-color: #3B4455;\n",
              "      fill: #D2E3FC;\n",
              "    }\n",
              "\n",
              "    [theme=dark] .colab-df-convert:hover {\n",
              "      background-color: #434B5C;\n",
              "      box-shadow: 0px 1px 3px 1px rgba(0, 0, 0, 0.15);\n",
              "      filter: drop-shadow(0px 1px 2px rgba(0, 0, 0, 0.3));\n",
              "      fill: #FFFFFF;\n",
              "    }\n",
              "  </style>\n",
              "\n",
              "    <script>\n",
              "      const buttonEl =\n",
              "        document.querySelector('#df-28bea5fd-572c-4ca6-9649-99807e4291b1 button.colab-df-convert');\n",
              "      buttonEl.style.display =\n",
              "        google.colab.kernel.accessAllowed ? 'block' : 'none';\n",
              "\n",
              "      async function convertToInteractive(key) {\n",
              "        const element = document.querySelector('#df-28bea5fd-572c-4ca6-9649-99807e4291b1');\n",
              "        const dataTable =\n",
              "          await google.colab.kernel.invokeFunction('convertToInteractive',\n",
              "                                                    [key], {});\n",
              "        if (!dataTable) return;\n",
              "\n",
              "        const docLinkHtml = 'Like what you see? Visit the ' +\n",
              "          '<a target=\"_blank\" href=https://colab.research.google.com/notebooks/data_table.ipynb>data table notebook</a>'\n",
              "          + ' to learn more about interactive tables.';\n",
              "        element.innerHTML = '';\n",
              "        dataTable['output_type'] = 'display_data';\n",
              "        await google.colab.output.renderOutput(dataTable, element);\n",
              "        const docLink = document.createElement('div');\n",
              "        docLink.innerHTML = docLinkHtml;\n",
              "        element.appendChild(docLink);\n",
              "      }\n",
              "    </script>\n",
              "  </div>\n",
              "\n",
              "\n",
              "<div id=\"df-30dad740-1c06-42b1-83e9-6a459982fde3\">\n",
              "  <button class=\"colab-df-quickchart\" onclick=\"quickchart('df-30dad740-1c06-42b1-83e9-6a459982fde3')\"\n",
              "            title=\"Suggest charts\"\n",
              "            style=\"display:none;\">\n",
              "\n",
              "<svg xmlns=\"http://www.w3.org/2000/svg\" height=\"24px\"viewBox=\"0 0 24 24\"\n",
              "     width=\"24px\">\n",
              "    <g>\n",
              "        <path d=\"M19 3H5c-1.1 0-2 .9-2 2v14c0 1.1.9 2 2 2h14c1.1 0 2-.9 2-2V5c0-1.1-.9-2-2-2zM9 17H7v-7h2v7zm4 0h-2V7h2v10zm4 0h-2v-4h2v4z\"/>\n",
              "    </g>\n",
              "</svg>\n",
              "  </button>\n",
              "\n",
              "<style>\n",
              "  .colab-df-quickchart {\n",
              "      --bg-color: #E8F0FE;\n",
              "      --fill-color: #1967D2;\n",
              "      --hover-bg-color: #E2EBFA;\n",
              "      --hover-fill-color: #174EA6;\n",
              "      --disabled-fill-color: #AAA;\n",
              "      --disabled-bg-color: #DDD;\n",
              "  }\n",
              "\n",
              "  [theme=dark] .colab-df-quickchart {\n",
              "      --bg-color: #3B4455;\n",
              "      --fill-color: #D2E3FC;\n",
              "      --hover-bg-color: #434B5C;\n",
              "      --hover-fill-color: #FFFFFF;\n",
              "      --disabled-bg-color: #3B4455;\n",
              "      --disabled-fill-color: #666;\n",
              "  }\n",
              "\n",
              "  .colab-df-quickchart {\n",
              "    background-color: var(--bg-color);\n",
              "    border: none;\n",
              "    border-radius: 50%;\n",
              "    cursor: pointer;\n",
              "    display: none;\n",
              "    fill: var(--fill-color);\n",
              "    height: 32px;\n",
              "    padding: 0;\n",
              "    width: 32px;\n",
              "  }\n",
              "\n",
              "  .colab-df-quickchart:hover {\n",
              "    background-color: var(--hover-bg-color);\n",
              "    box-shadow: 0 1px 2px rgba(60, 64, 67, 0.3), 0 1px 3px 1px rgba(60, 64, 67, 0.15);\n",
              "    fill: var(--button-hover-fill-color);\n",
              "  }\n",
              "\n",
              "  .colab-df-quickchart-complete:disabled,\n",
              "  .colab-df-quickchart-complete:disabled:hover {\n",
              "    background-color: var(--disabled-bg-color);\n",
              "    fill: var(--disabled-fill-color);\n",
              "    box-shadow: none;\n",
              "  }\n",
              "\n",
              "  .colab-df-spinner {\n",
              "    border: 2px solid var(--fill-color);\n",
              "    border-color: transparent;\n",
              "    border-bottom-color: var(--fill-color);\n",
              "    animation:\n",
              "      spin 1s steps(1) infinite;\n",
              "  }\n",
              "\n",
              "  @keyframes spin {\n",
              "    0% {\n",
              "      border-color: transparent;\n",
              "      border-bottom-color: var(--fill-color);\n",
              "      border-left-color: var(--fill-color);\n",
              "    }\n",
              "    20% {\n",
              "      border-color: transparent;\n",
              "      border-left-color: var(--fill-color);\n",
              "      border-top-color: var(--fill-color);\n",
              "    }\n",
              "    30% {\n",
              "      border-color: transparent;\n",
              "      border-left-color: var(--fill-color);\n",
              "      border-top-color: var(--fill-color);\n",
              "      border-right-color: var(--fill-color);\n",
              "    }\n",
              "    40% {\n",
              "      border-color: transparent;\n",
              "      border-right-color: var(--fill-color);\n",
              "      border-top-color: var(--fill-color);\n",
              "    }\n",
              "    60% {\n",
              "      border-color: transparent;\n",
              "      border-right-color: var(--fill-color);\n",
              "    }\n",
              "    80% {\n",
              "      border-color: transparent;\n",
              "      border-right-color: var(--fill-color);\n",
              "      border-bottom-color: var(--fill-color);\n",
              "    }\n",
              "    90% {\n",
              "      border-color: transparent;\n",
              "      border-bottom-color: var(--fill-color);\n",
              "    }\n",
              "  }\n",
              "</style>\n",
              "\n",
              "  <script>\n",
              "    async function quickchart(key) {\n",
              "      const quickchartButtonEl =\n",
              "        document.querySelector('#' + key + ' button');\n",
              "      quickchartButtonEl.disabled = true;  // To prevent multiple clicks.\n",
              "      quickchartButtonEl.classList.add('colab-df-spinner');\n",
              "      try {\n",
              "        const charts = await google.colab.kernel.invokeFunction(\n",
              "            'suggestCharts', [key], {});\n",
              "      } catch (error) {\n",
              "        console.error('Error during call to suggestCharts:', error);\n",
              "      }\n",
              "      quickchartButtonEl.classList.remove('colab-df-spinner');\n",
              "      quickchartButtonEl.classList.add('colab-df-quickchart-complete');\n",
              "    }\n",
              "    (() => {\n",
              "      let quickchartButtonEl =\n",
              "        document.querySelector('#df-30dad740-1c06-42b1-83e9-6a459982fde3 button');\n",
              "      quickchartButtonEl.style.display =\n",
              "        google.colab.kernel.accessAllowed ? 'block' : 'none';\n",
              "    })();\n",
              "  </script>\n",
              "</div>\n",
              "    </div>\n",
              "  </div>\n"
            ],
            "application/vnd.google.colaboratory.intrinsic+json": {
              "type": "dataframe",
              "variable_name": "df"
            }
          },
          "metadata": {},
          "execution_count": 73
        }
      ]
    },
    {
      "cell_type": "code",
      "source": [
        "import matplotlib.pyplot as plt\n",
        "import numpy as np\n",
        "\n",
        "plt.style.use('dark_background')"
      ],
      "metadata": {
        "id": "6sFa5KfPBdLO"
      },
      "execution_count": 74,
      "outputs": []
    },
    {
      "cell_type": "code",
      "source": [
        "df.hist()"
      ],
      "metadata": {
        "colab": {
          "base_uri": "https://localhost:8080/",
          "height": 738
        },
        "id": "sXwRNYwR7dd2",
        "outputId": "7efda607-8bfc-45a5-8717-ca4c7e0595d3"
      },
      "execution_count": 75,
      "outputs": [
        {
          "output_type": "execute_result",
          "data": {
            "text/plain": [
              "array([[<Axes: title={'center': 'Unnamed: 0'}>,\n",
              "        <Axes: title={'center': 'popularity'}>,\n",
              "        <Axes: title={'center': 'duration_ms'}>,\n",
              "        <Axes: title={'center': 'danceability'}>],\n",
              "       [<Axes: title={'center': 'energy'}>,\n",
              "        <Axes: title={'center': 'key'}>,\n",
              "        <Axes: title={'center': 'loudness'}>,\n",
              "        <Axes: title={'center': 'mode'}>],\n",
              "       [<Axes: title={'center': 'speechiness'}>,\n",
              "        <Axes: title={'center': 'acousticness'}>,\n",
              "        <Axes: title={'center': 'instrumentalness'}>,\n",
              "        <Axes: title={'center': 'liveness'}>],\n",
              "       [<Axes: title={'center': 'valence'}>,\n",
              "        <Axes: title={'center': 'tempo'}>,\n",
              "        <Axes: title={'center': 'time_signature'}>, <Axes: >]],\n",
              "      dtype=object)"
            ]
          },
          "metadata": {},
          "execution_count": 75
        },
        {
          "output_type": "display_data",
          "data": {
            "text/plain": [
              "<Figure size 640x480 with 16 Axes>"
            ],
            "image/png": "[encoded data removed]"
          },
          "metadata": {}
        }
      ]
    },
    {
      "cell_type": "code",
      "source": [
        "df['artists'].value_counts().head(30)"
      ],
      "metadata": {
        "colab": {
          "base_uri": "https://localhost:8080/"
        },
        "id": "-mOTMxbO_g2f",
        "outputId": "d8b53e03-ed51-40fa-b83c-e4575684d4dc"
      },
      "execution_count": 76,
      "outputs": [
        {
          "output_type": "execute_result",
          "data": {
            "text/plain": [
              "artists\n",
              "The Beatles              279\n",
              "George Jones             271\n",
              "Stevie Wonder            236\n",
              "Linkin Park              224\n",
              "Ella Fitzgerald          222\n",
              "Prateek Kuhad            217\n",
              "Feid                     202\n",
              "Chuck Berry              190\n",
              "Håkan Hellström          183\n",
              "OneRepublic              181\n",
              "The Beach Boys           176\n",
              "my little airport        171\n",
              "Elvis Presley            169\n",
              "Charlie Brown Jr.        169\n",
              "Red Hot Chili Peppers    159\n",
              "Bryan Adams              157\n",
              "Scooter                  155\n",
              "Daddy Yankee             154\n",
              "Arctic Monkeys           152\n",
              "BTS                      151\n",
              "Norah Jones              150\n",
              "The Prophet              145\n",
              "Hank Williams            140\n",
              "Glee Cast                139\n",
              "Don Omar                 137\n",
              "Vybz Kartel              128\n",
              "Los Prisioneros          126\n",
              "CoComelon                122\n",
              "Anupam Roy               121\n",
              "Seiko Matsuda            118\n",
              "Name: count, dtype: int64"
            ]
          },
          "metadata": {},
          "execution_count": 76
        }
      ]
    },
    {
      "cell_type": "code",
      "source": [
        "from catboost import CatBoostRegressor"
      ],
      "metadata": {
        "id": "FhEUdlQgDFTB"
      },
      "execution_count": 77,
      "outputs": []
    },
    {
      "cell_type": "code",
      "source": [
        "from sklearn.model_selection import train_test_split\n",
        "\n",
        "df[cat_features] = df[cat_features].fillna('missing')\n",
        "df = df.fillna(0)\n",
        "\n",
        "train, test = train_test_split(df, train_size=0.6, random_state=42)\n",
        "val, test = train_test_split(test, train_size=0.5, random_state=42)"
      ],
      "metadata": {
        "id": "a1q96vAFAPCj"
      },
      "execution_count": 78,
      "outputs": []
    },
    {
      "cell_type": "code",
      "source": [
        "len(train) / len(df)"
      ],
      "metadata": {
        "colab": {
          "base_uri": "https://localhost:8080/"
        },
        "id": "utG1hkrcBj_Y",
        "outputId": "9c07008a-2b87-41f9-a5a4-77b4c16cdf20"
      },
      "execution_count": 79,
      "outputs": [
        {
          "output_type": "execute_result",
          "data": {
            "text/plain": [
              "0.6"
            ]
          },
          "metadata": {},
          "execution_count": 79
        }
      ]
    },
    {
      "cell_type": "code",
      "source": [
        "len(df)"
      ],
      "metadata": {
        "colab": {
          "base_uri": "https://localhost:8080/"
        },
        "id": "KAXqBmMJBxhz",
        "outputId": "545eabc8-ca83-4b28-cbc1-cf6ad0ccc1fb"
      },
      "execution_count": 80,
      "outputs": [
        {
          "output_type": "execute_result",
          "data": {
            "text/plain": [
              "114000"
            ]
          },
          "metadata": {},
          "execution_count": 80
        }
      ]
    },
    {
      "cell_type": "code",
      "source": [
        "len(train)"
      ],
      "metadata": {
        "colab": {
          "base_uri": "https://localhost:8080/"
        },
        "id": "BjDdtusLBydI",
        "outputId": "e2998fdb-95a2-4cc4-ca54-9343665b47e4"
      },
      "execution_count": 81,
      "outputs": [
        {
          "output_type": "execute_result",
          "data": {
            "text/plain": [
              "68400"
            ]
          },
          "metadata": {},
          "execution_count": 81
        }
      ]
    },
    {
      "cell_type": "code",
      "source": [
        "len(test)"
      ],
      "metadata": {
        "colab": {
          "base_uri": "https://localhost:8080/"
        },
        "id": "23V5an7KB1F4",
        "outputId": "a4490a0d-788f-487c-9bbd-7f2543007c5b"
      },
      "execution_count": 82,
      "outputs": [
        {
          "output_type": "execute_result",
          "data": {
            "text/plain": [
              "22800"
            ]
          },
          "metadata": {},
          "execution_count": 82
        }
      ]
    },
    {
      "cell_type": "code",
      "source": [
        "len(val)"
      ],
      "metadata": {
        "colab": {
          "base_uri": "https://localhost:8080/"
        },
        "id": "G7nSq-aNB2OG",
        "outputId": "c97c8a6a-6e8d-4232-961b-bddeb645e05c"
      },
      "execution_count": 83,
      "outputs": [
        {
          "output_type": "execute_result",
          "data": {
            "text/plain": [
              "22800"
            ]
          },
          "metadata": {},
          "execution_count": 83
        }
      ]
    },
    {
      "cell_type": "code",
      "source": [
        "train.columns"
      ],
      "metadata": {
        "colab": {
          "base_uri": "https://localhost:8080/"
        },
        "id": "FGQNtFo4CMUR",
        "outputId": "3b69332d-92b2-487c-97e0-c33b1d7ae734"
      },
      "execution_count": 84,
      "outputs": [
        {
          "output_type": "execute_result",
          "data": {
            "text/plain": [
              "Index(['Unnamed: 0', 'track_id', 'artists', 'album_name', 'track_name',\n",
              "       'popularity', 'duration_ms', 'explicit', 'danceability', 'energy',\n",
              "       'key', 'loudness', 'mode', 'speechiness', 'acousticness',\n",
              "       'instrumentalness', 'liveness', 'valence', 'tempo', 'time_signature',\n",
              "       'track_genre'],\n",
              "      dtype='object')"
            ]
          },
          "metadata": {},
          "execution_count": 84
        }
      ]
    },
    {
      "cell_type": "code",
      "source": [
        "train.info()"
      ],
      "metadata": {
        "colab": {
          "base_uri": "https://localhost:8080/"
        },
        "id": "NNnMXhXuCcPS",
        "outputId": "9d0cf931-6af1-4731-f414-d9474e1f7f5c"
      },
      "execution_count": 85,
      "outputs": [
        {
          "output_type": "stream",
          "name": "stdout",
          "text": [
            "<class 'pandas.core.frame.DataFrame'>\n",
            "Index: 68400 entries, 103465 to 15795\n",
            "Data columns (total 21 columns):\n",
            " #   Column            Non-Null Count  Dtype  \n",
            "---  ------            --------------  -----  \n",
            " 0   Unnamed: 0        68400 non-null  int64  \n",
            " 1   track_id          68400 non-null  object \n",
            " 2   artists           68400 non-null  object \n",
            " 3   album_name        68400 non-null  object \n",
            " 4   track_name        68400 non-null  object \n",
            " 5   popularity        68400 non-null  int64  \n",
            " 6   duration_ms       68400 non-null  int64  \n",
            " 7   explicit          68400 non-null  bool   \n",
            " 8   danceability      68400 non-null  float64\n",
            " 9   energy            68400 non-null  float64\n",
            " 10  key               68400 non-null  int64  \n",
            " 11  loudness          68400 non-null  float64\n",
            " 12  mode              68400 non-null  int64  \n",
            " 13  speechiness       68400 non-null  float64\n",
            " 14  acousticness      68400 non-null  float64\n",
            " 15  instrumentalness  68400 non-null  float64\n",
            " 16  liveness          68400 non-null  float64\n",
            " 17  valence           68400 non-null  float64\n",
            " 18  tempo             68400 non-null  float64\n",
            " 19  time_signature    68400 non-null  int64  \n",
            " 20  track_genre       68400 non-null  object \n",
            "dtypes: bool(1), float64(9), int64(6), object(5)\n",
            "memory usage: 11.0+ MB\n"
          ]
        }
      ]
    },
    {
      "cell_type": "code",
      "source": [
        "X = ['album_name', 'track_name', 'popularity', 'duration_ms', 'explicit',\n",
        "     'danceability', 'energy', 'key', 'loudness', 'mode', 'speechiness',\n",
        "     'acousticness', 'instrumentalness', 'liveness', 'valence', 'tempo',\n",
        "     'time_signature', 'track_genre']\n",
        "\n",
        "cat_features = ['album_name', 'track_name', 'track_genre']\n",
        "\n",
        "y = 'popularity'"
      ],
      "metadata": {
        "id": "00nbNlS7B3rb"
      },
      "execution_count": 86,
      "outputs": []
    },
    {
      "cell_type": "code",
      "source": [
        "parameters = {'cat_features': cat_features,\n",
        "              'eval_metric': 'MAPE',\n",
        "              'random_seed': 42,\n",
        "              'verbose': 100}"
      ],
      "metadata": {
        "id": "qjCXw10YC7IF"
      },
      "execution_count": 87,
      "outputs": []
    },
    {
      "cell_type": "code",
      "source": [
        "model = CatBoostRegressor(**parameters)"
      ],
      "metadata": {
        "id": "5bKeJT1QDb2l"
      },
      "execution_count": 88,
      "outputs": []
    },
    {
      "cell_type": "code",
      "source": [
        "model.fit(train[X], train[y], eval_set=(val[X], val[y]))"
      ],
      "metadata": {
        "colab": {
          "base_uri": "https://localhost:8080/"
        },
        "id": "KGSJ8vNxDPPz",
        "outputId": "dcd6568e-7908-43ec-ed72-ebee752c0294"
      },
      "execution_count": 89,
      "outputs": [
        {
          "output_type": "stream",
          "name": "stdout",
          "text": [
            "Learning rate set to 0.098855\n",
            "0:\tlearn: 5.3420844\ttest: 5.3485638\tbest: 5.3485638 (0)\ttotal: 186ms\tremaining: 3m 5s\n",
            "100:\tlearn: 0.0177227\ttest: 0.0171649\tbest: 0.0171649 (100)\ttotal: 20.5s\tremaining: 3m 2s\n",
            "200:\tlearn: 0.0110349\ttest: 0.0105889\tbest: 0.0105889 (200)\ttotal: 35.8s\tremaining: 2m 22s\n",
            "300:\tlearn: 0.0067450\ttest: 0.0065237\tbest: 0.0065199 (299)\ttotal: 43.3s\tremaining: 1m 40s\n",
            "400:\tlearn: 0.0042758\ttest: 0.0040908\tbest: 0.0040908 (400)\ttotal: 52.2s\tremaining: 1m 17s\n",
            "500:\tlearn: 0.0030780\ttest: 0.0029557\tbest: 0.0029557 (500)\ttotal: 1m\tremaining: 60s\n",
            "600:\tlearn: 0.0022172\ttest: 0.0021385\tbest: 0.0021385 (600)\ttotal: 1m 8s\tremaining: 45.6s\n",
            "700:\tlearn: 0.0017218\ttest: 0.0016615\tbest: 0.0016615 (700)\ttotal: 1m 17s\tremaining: 33s\n",
            "800:\tlearn: 0.0013618\ttest: 0.0013300\tbest: 0.0013300 (800)\ttotal: 1m 24s\tremaining: 20.9s\n",
            "900:\tlearn: 0.0011654\ttest: 0.0011541\tbest: 0.0011541 (900)\ttotal: 1m 32s\tremaining: 10.2s\n",
            "999:\tlearn: 0.0010186\ttest: 0.0010116\tbest: 0.0010107 (997)\ttotal: 1m 40s\tremaining: 0us\n",
            "\n",
            "bestTest = 0.00101072379\n",
            "bestIteration = 997\n",
            "\n",
            "Shrink model to first 998 iterations.\n"
          ]
        },
        {
          "output_type": "execute_result",
          "data": {
            "text/plain": [
              "<catboost.core.CatBoostRegressor at 0x789d303a37f0>"
            ]
          },
          "metadata": {},
          "execution_count": 89
        }
      ]
    },
    {
      "cell_type": "code",
      "source": [
        "model.predict(test[X])\n",
        "model.predict(train[X])\n",
        "model.predict(val[X])"
      ],
      "metadata": {
        "colab": {
          "base_uri": "https://localhost:8080/"
        },
        "id": "4rKOJ8zlDYpF",
        "outputId": "3bfda774-ceee-4099-ee2e-0226d68fa56d"
      },
      "execution_count": 90,
      "outputs": [
        {
          "output_type": "execute_result",
          "data": {
            "text/plain": [
              "array([19.00103262, 44.00179602, 25.99501421, ..., 44.00390149,\n",
              "       20.995602  , 48.99573407])"
            ]
          },
          "metadata": {},
          "execution_count": 90
        }
      ]
    },
    {
      "cell_type": "code",
      "source": [
        "test['popularity_pred'] = model.predict(test[X])"
      ],
      "metadata": {
        "id": "sIvjNPPpGvV5"
      },
      "execution_count": 91,
      "outputs": []
    },
    {
      "cell_type": "code",
      "source": [
        "test['error_abs'] = abs(test['popularity'] - test['popularity_pred'])\n",
        "test['error'] = test['popularity'] - test['popularity_pred']"
      ],
      "metadata": {
        "id": "M0kgEG91IdLo"
      },
      "execution_count": 92,
      "outputs": []
    },
    {
      "cell_type": "code",
      "source": [
        "test"
      ],
      "metadata": {
        "colab": {
          "base_uri": "https://localhost:8080/",
          "height": 756
        },
        "id": "x6Hx9SJ8G1xo",
        "outputId": "e8f959c6-db29-4f59-849b-fe41facc922a"
      },
      "execution_count": 93,
      "outputs": [
        {
          "output_type": "execute_result",
          "data": {
            "text/plain": [
              "        Unnamed: 0                track_id  \\\n",
              "54873        54873  76S5vWEejHLovf4ZBmedJC   \n",
              "27539        27539  47M4azc9DmMfEM8TlyY99B   \n",
              "49452        49452  0zolxiS5uiL5towOJrsJi4   \n",
              "103029      103029  0mhMSxIx2XnXCF7PDLjUGG   \n",
              "92409        92409  18YPNs20cBfgqkY8YCJlOH   \n",
              "...            ...                     ...   \n",
              "5365          5365  27kGlAZVLGtgbWSuCbxXge   \n",
              "101638      101638  0D3I0yg402htc6JN6AQSII   \n",
              "36953        36953  6yGNvSOyCZvNOCtHs3hfrH   \n",
              "616            616  7pxbZ29k1LJXvOdd2e5Bdn   \n",
              "13249        13249  7aQDdK4FKhkdB5C5lXdHgH   \n",
              "\n",
              "                                                  artists  \\\n",
              "54873                                               Kelpe   \n",
              "27539                                       Culture Shock   \n",
              "49452                                         Headhunterz   \n",
              "103029                  Ty Dolla $ign;Lil Wayne;The-Dream   \n",
              "92409                                         Neil Sedaka   \n",
              "...                                                   ...   \n",
              "5365                                     Yoshihisa Hirano   \n",
              "101638  Baby Sleep Music;Baby Lullaby;Monarch Baby Lul...   \n",
              "36953                                      Catching Flies   \n",
              "616                                            Us The Duo   \n",
              "13249                        Gershon Jackson;Reset Preset   \n",
              "\n",
              "                                               album_name  \\\n",
              "54873                    Fourth: The Golden Eagle Remixed   \n",
              "27539                              Have It All / Pandemic   \n",
              "49452                                                Home   \n",
              "103029                                            Rap Ice   \n",
              "92409                 Rock with Sedaka (Expanded Edition)   \n",
              "...                                                   ...   \n",
              "5365                   TVアニメ「HUNTER×HUNTER」オリジナル・サウンドトラック   \n",
              "101638  Baby Sleep Music: Soothing Baby Lullaby Music ...   \n",
              "36953                                                 GLY   \n",
              "616                                               Shotgun   \n",
              "13249                       Glitterbox - Where Love Lives   \n",
              "\n",
              "                                               track_name  popularity  \\\n",
              "54873                          Puds - Morgan Hislop Remix          11   \n",
              "27539                                            Pandemic          18   \n",
              "49452                                                Home          52   \n",
              "103029                                      Love U Better           0   \n",
              "92409                           You Mean Everything to Me          52   \n",
              "...                                                   ...         ...   \n",
              "5365                                              奇術師のバイレ          51   \n",
              "101638                            Soothing Baby Lullabies          34   \n",
              "36953                                                 GLY          59   \n",
              "616                                               Shotgun          45   \n",
              "13249   Hands Together - House of Omni Hands Together ...          12   \n",
              "\n",
              "        duration_ms  explicit  danceability   energy  ...  acousticness  \\\n",
              "54873        214459     False        0.4030  0.88000  ...      0.023700   \n",
              "27539        278291     False        0.4620  0.96600  ...      0.000205   \n",
              "49452        234165     False        0.5520  0.82900  ...      0.187000   \n",
              "103029       181872     False        0.6270  0.56200  ...      0.062800   \n",
              "92409        157866     False        0.3740  0.42900  ...      0.523000   \n",
              "...             ...       ...           ...      ...  ...           ...   \n",
              "5365          66946     False        0.7340  0.72400  ...      0.679000   \n",
              "101638       139371     False        0.0934  0.00954  ...      0.994000   \n",
              "36953        220623     False        0.6690  0.56300  ...      0.250000   \n",
              "616          174884     False        0.8060  0.26300  ...      0.787000   \n",
              "13249        396503     False        0.6400  0.77900  ...      0.000526   \n",
              "\n",
              "        instrumentalness  liveness  valence    tempo  time_signature  \\\n",
              "54873           0.459000    0.3140   0.4350  137.060               3   \n",
              "27539           0.773000    0.1410   0.1630  173.980               4   \n",
              "49452           0.000054    0.2830   0.3670  150.039               4   \n",
              "103029          0.000000    0.3100   0.3890   95.054               4   \n",
              "92409           0.000000    0.1340   0.6790   71.519               4   \n",
              "...                  ...       ...      ...      ...             ...   \n",
              "5365            0.842000    0.2580   0.8500  116.982               3   \n",
              "101638          0.970000    0.0832   0.0427  166.642               3   \n",
              "36953           0.917000    0.1420   0.3940  119.974               4   \n",
              "616             0.000000    0.1820   0.8680  115.854               4   \n",
              "13249           0.571000    0.1100   0.6900  126.054               4   \n",
              "\n",
              "          track_genre  popularity_pred  error_abs     error  \n",
              "54873             idm        10.996164   0.003836  0.003836  \n",
              "27539   drum-and-bass        18.004063   0.004063 -0.004063  \n",
              "49452       hardstyle        52.002128   0.002128 -0.002128  \n",
              "103029           soul         0.007477   0.007477 -0.007477  \n",
              "92409      rockabilly        51.989654   0.010346  0.010346  \n",
              "...               ...              ...        ...       ...  \n",
              "5365            anime        50.998649   0.001351  0.001351  \n",
              "101638          sleep        33.994192   0.005808  0.005808  \n",
              "36953          french        59.009751   0.009751 -0.009751  \n",
              "616          acoustic        45.001488   0.001488 -0.001488  \n",
              "13249   chicago-house        12.019005   0.019005 -0.019005  \n",
              "\n",
              "[22800 rows x 24 columns]"
            ],
            "text/html": [
              "\n",
              "  <div id=\"df-3e8ddcd1-0a96-4b5e-aab1-3bb183662025\" class=\"colab-df-container\">\n",
              "    <div>\n",
              "<style scoped>\n",
              "    .dataframe tbody tr th:only-of-type {\n",
              "        vertical-align: middle;\n",
              "    }\n",
              "\n",
              "    .dataframe tbody tr th {\n",
              "        vertical-align: top;\n",
              "    }\n",
              "\n",
              "    .dataframe thead th {\n",
              "        text-align: right;\n",
              "    }\n",
              "</style>\n",
              "<table border=\"1\" class=\"dataframe\">\n",
              "  <thead>\n",
              "    <tr style=\"text-align: right;\">\n",
              "      <th></th>\n",
              "      <th>Unnamed: 0</th>\n",
              "      <th>track_id</th>\n",
              "      <th>artists</th>\n",
              "      <th>album_name</th>\n",
              "      <th>track_name</th>\n",
              "      <th>popularity</th>\n",
              "      <th>duration_ms</th>\n",
              "      <th>explicit</th>\n",
              "      <th>danceability</th>\n",
              "      <th>energy</th>\n",
              "      <th>...</th>\n",
              "      <th>acousticness</th>\n",
              "      <th>instrumentalness</th>\n",
              "      <th>liveness</th>\n",
              "      <th>valence</th>\n",
              "      <th>tempo</th>\n",
              "      <th>time_signature</th>\n",
              "      <th>track_genre</th>\n",
              "      <th>popularity_pred</th>\n",
              "      <th>error_abs</th>\n",
              "      <th>error</th>\n",
              "    </tr>\n",
              "  </thead>\n",
              "  <tbody>\n",
              "    <tr>\n",
              "      <th>54873</th>\n",
              "      <td>54873</td>\n",
              "      <td>76S5vWEejHLovf4ZBmedJC</td>\n",
              "      <td>Kelpe</td>\n",
              "      <td>Fourth: The Golden Eagle Remixed</td>\n",
              "      <td>Puds - Morgan Hislop Remix</td>\n",
              "      <td>11</td>\n",
              "      <td>214459</td>\n",
              "      <td>False</td>\n",
              "      <td>0.4030</td>\n",
              "      <td>0.88000</td>\n",
              "      <td>...</td>\n",
              "      <td>0.023700</td>\n",
              "      <td>0.459000</td>\n",
              "      <td>0.3140</td>\n",
              "      <td>0.4350</td>\n",
              "      <td>137.060</td>\n",
              "      <td>3</td>\n",
              "      <td>idm</td>\n",
              "      <td>10.996164</td>\n",
              "      <td>0.003836</td>\n",
              "      <td>0.003836</td>\n",
              "    </tr>\n",
              "    <tr>\n",
              "      <th>27539</th>\n",
              "      <td>27539</td>\n",
              "      <td>47M4azc9DmMfEM8TlyY99B</td>\n",
              "      <td>Culture Shock</td>\n",
              "      <td>Have It All / Pandemic</td>\n",
              "      <td>Pandemic</td>\n",
              "      <td>18</td>\n",
              "      <td>278291</td>\n",
              "      <td>False</td>\n",
              "      <td>0.4620</td>\n",
              "      <td>0.96600</td>\n",
              "      <td>...</td>\n",
              "      <td>0.000205</td>\n",
              "      <td>0.773000</td>\n",
              "      <td>0.1410</td>\n",
              "      <td>0.1630</td>\n",
              "      <td>173.980</td>\n",
              "      <td>4</td>\n",
              "      <td>drum-and-bass</td>\n",
              "      <td>18.004063</td>\n",
              "      <td>0.004063</td>\n",
              "      <td>-0.004063</td>\n",
              "    </tr>\n",
              "    <tr>\n",
              "      <th>49452</th>\n",
              "      <td>49452</td>\n",
              "      <td>0zolxiS5uiL5towOJrsJi4</td>\n",
              "      <td>Headhunterz</td>\n",
              "      <td>Home</td>\n",
              "      <td>Home</td>\n",
              "      <td>52</td>\n",
              "      <td>234165</td>\n",
              "      <td>False</td>\n",
              "      <td>0.5520</td>\n",
              "      <td>0.82900</td>\n",
              "      <td>...</td>\n",
              "      <td>0.187000</td>\n",
              "      <td>0.000054</td>\n",
              "      <td>0.2830</td>\n",
              "      <td>0.3670</td>\n",
              "      <td>150.039</td>\n",
              "      <td>4</td>\n",
              "      <td>hardstyle</td>\n",
              "      <td>52.002128</td>\n",
              "      <td>0.002128</td>\n",
              "      <td>-0.002128</td>\n",
              "    </tr>\n",
              "    <tr>\n",
              "      <th>103029</th>\n",
              "      <td>103029</td>\n",
              "      <td>0mhMSxIx2XnXCF7PDLjUGG</td>\n",
              "      <td>Ty Dolla $ign;Lil Wayne;The-Dream</td>\n",
              "      <td>Rap Ice</td>\n",
              "      <td>Love U Better</td>\n",
              "      <td>0</td>\n",
              "      <td>181872</td>\n",
              "      <td>False</td>\n",
              "      <td>0.6270</td>\n",
              "      <td>0.56200</td>\n",
              "      <td>...</td>\n",
              "      <td>0.062800</td>\n",
              "      <td>0.000000</td>\n",
              "      <td>0.3100</td>\n",
              "      <td>0.3890</td>\n",
              "      <td>95.054</td>\n",
              "      <td>4</td>\n",
              "      <td>soul</td>\n",
              "      <td>0.007477</td>\n",
              "      <td>0.007477</td>\n",
              "      <td>-0.007477</td>\n",
              "    </tr>\n",
              "    <tr>\n",
              "      <th>92409</th>\n",
              "      <td>92409</td>\n",
              "      <td>18YPNs20cBfgqkY8YCJlOH</td>\n",
              "      <td>Neil Sedaka</td>\n",
              "      <td>Rock with Sedaka (Expanded Edition)</td>\n",
              "      <td>You Mean Everything to Me</td>\n",
              "      <td>52</td>\n",
              "      <td>157866</td>\n",
              "      <td>False</td>\n",
              "      <td>0.3740</td>\n",
              "      <td>0.42900</td>\n",
              "      <td>...</td>\n",
              "      <td>0.523000</td>\n",
              "      <td>0.000000</td>\n",
              "      <td>0.1340</td>\n",
              "      <td>0.6790</td>\n",
              "      <td>71.519</td>\n",
              "      <td>4</td>\n",
              "      <td>rockabilly</td>\n",
              "      <td>51.989654</td>\n",
              "      <td>0.010346</td>\n",
              "      <td>0.010346</td>\n",
              "    </tr>\n",
              "    <tr>\n",
              "      <th>...</th>\n",
              "      <td>...</td>\n",
              "      <td>...</td>\n",
              "      <td>...</td>\n",
              "      <td>...</td>\n",
              "      <td>...</td>\n",
              "      <td>...</td>\n",
              "      <td>...</td>\n",
              "      <td>...</td>\n",
              "      <td>...</td>\n",
              "      <td>...</td>\n",
              "      <td>...</td>\n",
              "      <td>...</td>\n",
              "      <td>...</td>\n",
              "      <td>...</td>\n",
              "      <td>...</td>\n",
              "      <td>...</td>\n",
              "      <td>...</td>\n",
              "      <td>...</td>\n",
              "      <td>...</td>\n",
              "      <td>...</td>\n",
              "      <td>...</td>\n",
              "    </tr>\n",
              "    <tr>\n",
              "      <th>5365</th>\n",
              "      <td>5365</td>\n",
              "      <td>27kGlAZVLGtgbWSuCbxXge</td>\n",
              "      <td>Yoshihisa Hirano</td>\n",
              "      <td>TVアニメ「HUNTER×HUNTER」オリジナル・サウンドトラック</td>\n",
              "      <td>奇術師のバイレ</td>\n",
              "      <td>51</td>\n",
              "      <td>66946</td>\n",
              "      <td>False</td>\n",
              "      <td>0.7340</td>\n",
              "      <td>0.72400</td>\n",
              "      <td>...</td>\n",
              "      <td>0.679000</td>\n",
              "      <td>0.842000</td>\n",
              "      <td>0.2580</td>\n",
              "      <td>0.8500</td>\n",
              "      <td>116.982</td>\n",
              "      <td>3</td>\n",
              "      <td>anime</td>\n",
              "      <td>50.998649</td>\n",
              "      <td>0.001351</td>\n",
              "      <td>0.001351</td>\n",
              "    </tr>\n",
              "    <tr>\n",
              "      <th>101638</th>\n",
              "      <td>101638</td>\n",
              "      <td>0D3I0yg402htc6JN6AQSII</td>\n",
              "      <td>Baby Sleep Music;Baby Lullaby;Monarch Baby Lul...</td>\n",
              "      <td>Baby Sleep Music: Soothing Baby Lullaby Music ...</td>\n",
              "      <td>Soothing Baby Lullabies</td>\n",
              "      <td>34</td>\n",
              "      <td>139371</td>\n",
              "      <td>False</td>\n",
              "      <td>0.0934</td>\n",
              "      <td>0.00954</td>\n",
              "      <td>...</td>\n",
              "      <td>0.994000</td>\n",
              "      <td>0.970000</td>\n",
              "      <td>0.0832</td>\n",
              "      <td>0.0427</td>\n",
              "      <td>166.642</td>\n",
              "      <td>3</td>\n",
              "      <td>sleep</td>\n",
              "      <td>33.994192</td>\n",
              "      <td>0.005808</td>\n",
              "      <td>0.005808</td>\n",
              "    </tr>\n",
              "    <tr>\n",
              "      <th>36953</th>\n",
              "      <td>36953</td>\n",
              "      <td>6yGNvSOyCZvNOCtHs3hfrH</td>\n",
              "      <td>Catching Flies</td>\n",
              "      <td>GLY</td>\n",
              "      <td>GLY</td>\n",
              "      <td>59</td>\n",
              "      <td>220623</td>\n",
              "      <td>False</td>\n",
              "      <td>0.6690</td>\n",
              "      <td>0.56300</td>\n",
              "      <td>...</td>\n",
              "      <td>0.250000</td>\n",
              "      <td>0.917000</td>\n",
              "      <td>0.1420</td>\n",
              "      <td>0.3940</td>\n",
              "      <td>119.974</td>\n",
              "      <td>4</td>\n",
              "      <td>french</td>\n",
              "      <td>59.009751</td>\n",
              "      <td>0.009751</td>\n",
              "      <td>-0.009751</td>\n",
              "    </tr>\n",
              "    <tr>\n",
              "      <th>616</th>\n",
              "      <td>616</td>\n",
              "      <td>7pxbZ29k1LJXvOdd2e5Bdn</td>\n",
              "      <td>Us The Duo</td>\n",
              "      <td>Shotgun</td>\n",
              "      <td>Shotgun</td>\n",
              "      <td>45</td>\n",
              "      <td>174884</td>\n",
              "      <td>False</td>\n",
              "      <td>0.8060</td>\n",
              "      <td>0.26300</td>\n",
              "      <td>...</td>\n",
              "      <td>0.787000</td>\n",
              "      <td>0.000000</td>\n",
              "      <td>0.1820</td>\n",
              "      <td>0.8680</td>\n",
              "      <td>115.854</td>\n",
              "      <td>4</td>\n",
              "      <td>acoustic</td>\n",
              "      <td>45.001488</td>\n",
              "      <td>0.001488</td>\n",
              "      <td>-0.001488</td>\n",
              "    </tr>\n",
              "    <tr>\n",
              "      <th>13249</th>\n",
              "      <td>13249</td>\n",
              "      <td>7aQDdK4FKhkdB5C5lXdHgH</td>\n",
              "      <td>Gershon Jackson;Reset Preset</td>\n",
              "      <td>Glitterbox - Where Love Lives</td>\n",
              "      <td>Hands Together - House of Omni Hands Together ...</td>\n",
              "      <td>12</td>\n",
              "      <td>396503</td>\n",
              "      <td>False</td>\n",
              "      <td>0.6400</td>\n",
              "      <td>0.77900</td>\n",
              "      <td>...</td>\n",
              "      <td>0.000526</td>\n",
              "      <td>0.571000</td>\n",
              "      <td>0.1100</td>\n",
              "      <td>0.6900</td>\n",
              "      <td>126.054</td>\n",
              "      <td>4</td>\n",
              "      <td>chicago-house</td>\n",
              "      <td>12.019005</td>\n",
              "      <td>0.019005</td>\n",
              "      <td>-0.019005</td>\n",
              "    </tr>\n",
              "  </tbody>\n",
              "</table>\n",
              "<p>22800 rows × 24 columns</p>\n",
              "</div>\n",
              "    <div class=\"colab-df-buttons\">\n",
              "\n",
              "  <div class=\"colab-df-container\">\n",
              "    <button class=\"colab-df-convert\" onclick=\"convertToInteractive('df-3e8ddcd1-0a96-4b5e-aab1-3bb183662025')\"\n",
              "            title=\"Convert this dataframe to an interactive table.\"\n",
              "            style=\"display:none;\">\n",
              "\n",
              "  <svg xmlns=\"http://www.w3.org/2000/svg\" height=\"24px\" viewBox=\"0 -960 960 960\">\n",
              "    <path d=\"M120-120v-720h720v720H120Zm60-500h600v-160H180v160Zm220 220h160v-160H400v160Zm0 220h160v-160H400v160ZM180-400h160v-160H180v160Zm440 0h160v-160H620v160ZM180-180h160v-160H180v160Zm440 0h160v-160H620v160Z\"/>\n",
              "  </svg>\n",
              "    </button>\n",
              "\n",
              "  <style>\n",
              "    .colab-df-container {\n",
              "      display:flex;\n",
              "      gap: 12px;\n",
              "    }\n",
              "\n",
              "    .colab-df-convert {\n",
              "      background-color: #E8F0FE;\n",
              "      border: none;\n",
              "      border-radius: 50%;\n",
              "      cursor: pointer;\n",
              "      display: none;\n",
              "      fill: #1967D2;\n",
              "      height: 32px;\n",
              "      padding: 0 0 0 0;\n",
              "      width: 32px;\n",
              "    }\n",
              "\n",
              "    .colab-df-convert:hover {\n",
              "      background-color: #E2EBFA;\n",
              "      box-shadow: 0px 1px 2px rgba(60, 64, 67, 0.3), 0px 1px 3px 1px rgba(60, 64, 67, 0.15);\n",
              "      fill: #174EA6;\n",
              "    }\n",
              "\n",
              "    .colab-df-buttons div {\n",
              "      margin-bottom: 4px;\n",
              "    }\n",
              "\n",
              "    [theme=dark] .colab-df-convert {\n",
              "      background-color: #3B4455;\n",
              "      fill: #D2E3FC;\n",
              "    }\n",
              "\n",
              "    [theme=dark] .colab-df-convert:hover {\n",
              "      background-color: #434B5C;\n",
              "      box-shadow: 0px 1px 3px 1px rgba(0, 0, 0, 0.15);\n",
              "      filter: drop-shadow(0px 1px 2px rgba(0, 0, 0, 0.3));\n",
              "      fill: #FFFFFF;\n",
              "    }\n",
              "  </style>\n",
              "\n",
              "    <script>\n",
              "      const buttonEl =\n",
              "        document.querySelector('#df-3e8ddcd1-0a96-4b5e-aab1-3bb183662025 button.colab-df-convert');\n",
              "      buttonEl.style.display =\n",
              "        google.colab.kernel.accessAllowed ? 'block' : 'none';\n",
              "\n",
              "      async function convertToInteractive(key) {\n",
              "        const element = document.querySelector('#df-3e8ddcd1-0a96-4b5e-aab1-3bb183662025');\n",
              "        const dataTable =\n",
              "          await google.colab.kernel.invokeFunction('convertToInteractive',\n",
              "                                                    [key], {});\n",
              "        if (!dataTable) return;\n",
              "\n",
              "        const docLinkHtml = 'Like what you see? Visit the ' +\n",
              "          '<a target=\"_blank\" href=https://colab.research.google.com/notebooks/data_table.ipynb>data table notebook</a>'\n",
              "          + ' to learn more about interactive tables.';\n",
              "        element.innerHTML = '';\n",
              "        dataTable['output_type'] = 'display_data';\n",
              "        await google.colab.output.renderOutput(dataTable, element);\n",
              "        const docLink = document.createElement('div');\n",
              "        docLink.innerHTML = docLinkHtml;\n",
              "        element.appendChild(docLink);\n",
              "      }\n",
              "    </script>\n",
              "  </div>\n",
              "\n",
              "\n",
              "<div id=\"df-40a1d7e4-52f5-4312-9ec7-0bd85a7fe281\">\n",
              "  <button class=\"colab-df-quickchart\" onclick=\"quickchart('df-40a1d7e4-52f5-4312-9ec7-0bd85a7fe281')\"\n",
              "            title=\"Suggest charts\"\n",
              "            style=\"display:none;\">\n",
              "\n",
              "<svg xmlns=\"http://www.w3.org/2000/svg\" height=\"24px\"viewBox=\"0 0 24 24\"\n",
              "     width=\"24px\">\n",
              "    <g>\n",
              "        <path d=\"M19 3H5c-1.1 0-2 .9-2 2v14c0 1.1.9 2 2 2h14c1.1 0 2-.9 2-2V5c0-1.1-.9-2-2-2zM9 17H7v-7h2v7zm4 0h-2V7h2v10zm4 0h-2v-4h2v4z\"/>\n",
              "    </g>\n",
              "</svg>\n",
              "  </button>\n",
              "\n",
              "<style>\n",
              "  .colab-df-quickchart {\n",
              "      --bg-color: #E8F0FE;\n",
              "      --fill-color: #1967D2;\n",
              "      --hover-bg-color: #E2EBFA;\n",
              "      --hover-fill-color: #174EA6;\n",
              "      --disabled-fill-color: #AAA;\n",
              "      --disabled-bg-color: #DDD;\n",
              "  }\n",
              "\n",
              "  [theme=dark] .colab-df-quickchart {\n",
              "      --bg-color: #3B4455;\n",
              "      --fill-color: #D2E3FC;\n",
              "      --hover-bg-color: #434B5C;\n",
              "      --hover-fill-color: #FFFFFF;\n",
              "      --disabled-bg-color: #3B4455;\n",
              "      --disabled-fill-color: #666;\n",
              "  }\n",
              "\n",
              "  .colab-df-quickchart {\n",
              "    background-color: var(--bg-color);\n",
              "    border: none;\n",
              "    border-radius: 50%;\n",
              "    cursor: pointer;\n",
              "    display: none;\n",
              "    fill: var(--fill-color);\n",
              "    height: 32px;\n",
              "    padding: 0;\n",
              "    width: 32px;\n",
              "  }\n",
              "\n",
              "  .colab-df-quickchart:hover {\n",
              "    background-color: var(--hover-bg-color);\n",
              "    box-shadow: 0 1px 2px rgba(60, 64, 67, 0.3), 0 1px 3px 1px rgba(60, 64, 67, 0.15);\n",
              "    fill: var(--button-hover-fill-color);\n",
              "  }\n",
              "\n",
              "  .colab-df-quickchart-complete:disabled,\n",
              "  .colab-df-quickchart-complete:disabled:hover {\n",
              "    background-color: var(--disabled-bg-color);\n",
              "    fill: var(--disabled-fill-color);\n",
              "    box-shadow: none;\n",
              "  }\n",
              "\n",
              "  .colab-df-spinner {\n",
              "    border: 2px solid var(--fill-color);\n",
              "    border-color: transparent;\n",
              "    border-bottom-color: var(--fill-color);\n",
              "    animation:\n",
              "      spin 1s steps(1) infinite;\n",
              "  }\n",
              "\n",
              "  @keyframes spin {\n",
              "    0% {\n",
              "      border-color: transparent;\n",
              "      border-bottom-color: var(--fill-color);\n",
              "      border-left-color: var(--fill-color);\n",
              "    }\n",
              "    20% {\n",
              "      border-color: transparent;\n",
              "      border-left-color: var(--fill-color);\n",
              "      border-top-color: var(--fill-color);\n",
              "    }\n",
              "    30% {\n",
              "      border-color: transparent;\n",
              "      border-left-color: var(--fill-color);\n",
              "      border-top-color: var(--fill-color);\n",
              "      border-right-color: var(--fill-color);\n",
              "    }\n",
              "    40% {\n",
              "      border-color: transparent;\n",
              "      border-right-color: var(--fill-color);\n",
              "      border-top-color: var(--fill-color);\n",
              "    }\n",
              "    60% {\n",
              "      border-color: transparent;\n",
              "      border-right-color: var(--fill-color);\n",
              "    }\n",
              "    80% {\n",
              "      border-color: transparent;\n",
              "      border-right-color: var(--fill-color);\n",
              "      border-bottom-color: var(--fill-color);\n",
              "    }\n",
              "    90% {\n",
              "      border-color: transparent;\n",
              "      border-bottom-color: var(--fill-color);\n",
              "    }\n",
              "  }\n",
              "</style>\n",
              "\n",
              "  <script>\n",
              "    async function quickchart(key) {\n",
              "      const quickchartButtonEl =\n",
              "        document.querySelector('#' + key + ' button');\n",
              "      quickchartButtonEl.disabled = true;  // To prevent multiple clicks.\n",
              "      quickchartButtonEl.classList.add('colab-df-spinner');\n",
              "      try {\n",
              "        const charts = await google.colab.kernel.invokeFunction(\n",
              "            'suggestCharts', [key], {});\n",
              "      } catch (error) {\n",
              "        console.error('Error during call to suggestCharts:', error);\n",
              "      }\n",
              "      quickchartButtonEl.classList.remove('colab-df-spinner');\n",
              "      quickchartButtonEl.classList.add('colab-df-quickchart-complete');\n",
              "    }\n",
              "    (() => {\n",
              "      let quickchartButtonEl =\n",
              "        document.querySelector('#df-40a1d7e4-52f5-4312-9ec7-0bd85a7fe281 button');\n",
              "      quickchartButtonEl.style.display =\n",
              "        google.colab.kernel.accessAllowed ? 'block' : 'none';\n",
              "    })();\n",
              "  </script>\n",
              "</div>\n",
              "    </div>\n",
              "  </div>\n"
            ],
            "application/vnd.google.colaboratory.intrinsic+json": {
              "type": "dataframe",
              "variable_name": "test"
            }
          },
          "metadata": {},
          "execution_count": 93
        }
      ]
    },
    {
      "cell_type": "code",
      "source": [
        "test[['error', 'error_abs']].hist()"
      ],
      "metadata": {
        "colab": {
          "base_uri": "https://localhost:8080/",
          "height": 488
        },
        "id": "5UChuDvcHDUR",
        "outputId": "9f387723-2ea7-4716-9d99-66ff326fecbe"
      },
      "execution_count": 94,
      "outputs": [
        {
          "output_type": "execute_result",
          "data": {
            "text/plain": [
              "array([[<Axes: title={'center': 'error'}>,\n",
              "        <Axes: title={'center': 'error_abs'}>]], dtype=object)"
            ]
          },
          "metadata": {},
          "execution_count": 94
        },
        {
          "output_type": "display_data",
          "data": {
            "text/plain": [
              "<Figure size 640x480 with 2 Axes>"
            ],
            "image/png": "[encoded data removed]"
          },
          "metadata": {}
        }
      ]
    },
    {
      "cell_type": "code",
      "execution_count": 95,
      "metadata": {
        "id": "RPjbPXvIy3JD"
      },
      "outputs": [],
      "source": [
        "from sklearn.metrics import mean_absolute_error, mean_absolute_percentage_error"
      ]
    },
    {
      "cell_type": "code",
      "execution_count": 96,
      "metadata": {
        "id": "-on6IXGWywMR"
      },
      "outputs": [],
      "source": [
        "def error(y_true,y_pred):\n",
        "  print(mean_absolute_error(y_true,y_pred))\n",
        "  print(mean_absolute_percentage_error(y_true,y_pred))"
      ]
    },
    {
      "cell_type": "code",
      "source": [
        "error(test['popularity'],test['popularity_pred'])"
      ],
      "metadata": {
        "colab": {
          "base_uri": "https://localhost:8080/"
        },
        "id": "RBtmVhiDIkjH",
        "outputId": "98fed32f-a9a6-45e8-c1c4-72395ead5f04"
      },
      "execution_count": 97,
      "outputs": [
        {
          "output_type": "stream",
          "name": "stdout",
          "text": [
            "0.007930823124953463\n",
            "2599063177155.6143\n"
          ]
        }
      ]
    },
    {
      "cell_type": "code",
      "source": [
        "test['error'].mean()"
      ],
      "metadata": {
        "colab": {
          "base_uri": "https://localhost:8080/"
        },
        "id": "S6i4pQf0I0DX",
        "outputId": "6c01955f-791a-4c2e-a2b2-84bbe48dfba0"
      },
      "execution_count": 98,
      "outputs": [
        {
          "output_type": "execute_result",
          "data": {
            "text/plain": [
              "-0.00012462548454053845"
            ]
          },
          "metadata": {},
          "execution_count": 98
        }
      ]
    },
    {
      "cell_type": "code",
      "source": [
        "from sklearn.metrics import mean_absolute_error, mean_absolute_percentage_error, mean_squared_error\n",
        "from sklearn.metrics import r2_score\n",
        "\n",
        "y_pred = model.predict(val[X])\n",
        "\n",
        "y_true = val[y]\n",
        "\n",
        "mae = mean_absolute_error(y_true, y_pred)\n",
        "mse = mean_squared_error(y_true, y_pred)\n",
        "rmse = mean_squared_error(y_true, y_pred, squared=False)\n",
        "r2 = r2_score(y_true, y_pred)\n",
        "\n",
        "print(f'MAE: {mae}')\n",
        "print(f'MSE: {mse}')\n",
        "print(f'RMSE: {rmse}')\n",
        "print(f'R^2: {r2}')\n",
        "\n",
        "\n",
        "plt.scatter(y_true, y_pred)\n",
        "plt.xlabel('Actual Prices')\n",
        "plt.ylabel('Predicted Prices')\n",
        "plt.title('Actual vs Predicted Prices')\n",
        "plt.show()"
      ],
      "metadata": {
        "colab": {
          "base_uri": "https://localhost:8080/",
          "height": 543
        },
        "id": "JOAB4G4GJSoa",
        "outputId": "ca708a55-5ed1-4f25-81ba-e9a902c57b6e"
      },
      "execution_count": 99,
      "outputs": [
        {
          "output_type": "stream",
          "name": "stdout",
          "text": [
            "MAE: 0.007817917902631045\n",
            "MSE: 0.00012225037023735248\n",
            "RMSE: 0.011056688936447135\n",
            "R^2: 0.9999997558290028\n"
          ]
        },
        {
          "output_type": "display_data",
          "data": {
            "text/plain": [
              "<Figure size 640x480 with 1 Axes>"
            ],
            "image/png": "[encoded data removed]"
          },
          "metadata": {}
        }
      ]
    },
    {
      "cell_type": "code",
      "source": [
        "import seaborn as sns\n",
        "import matplotlib.pyplot as plt\n",
        "\n",
        "fig = plt.figure(figsize=(20, 10))\n",
        "sns.regplot(data=df, x=test['popularity'], y=test['popularity_pred'], x_jitter=.15, line_kws=dict(color=\"r\"),)\n",
        "plt.xlabel('Actual')\n",
        "plt.ylabel('Predicted')\n",
        "plt.title('Actual vs Predicted')\n",
        "plt.ticklabel_format(style = 'plain')"
      ],
      "metadata": {
        "colab": {
          "base_uri": "https://localhost:8080/",
          "height": 799
        },
        "id": "R6nzCZvwJWEb",
        "outputId": "e83bf58e-0313-40d2-cf40-d80bde32c3ec"
      },
      "execution_count": 100,
      "outputs": [
        {
          "output_type": "display_data",
          "data": {
            "text/plain": [
              "<Figure size 2000x1000 with 1 Axes>"
            ],
            "image/png": "[encoded data removed]"
          },
          "metadata": {}
        }
      ]
    },
    {
      "cell_type": "code",
      "source": [],
      "metadata": {
        "id": "zYuWlBm-JghJ"
      },
      "execution_count": 100,
      "outputs": []
    }
  ]
}